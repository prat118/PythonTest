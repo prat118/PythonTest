{
 "cells": [
  {
   "cell_type": "code",
   "execution_count": null,
   "metadata": {},
   "outputs": [],
   "source": [
    "# Import the required libraries/modules\n",
    "import pandas as pd\n",
    "import os\n",
    "\n",
    "# Get the folder path from which the files needs to combined\n",
    "folder_path = 'Engineering Test/Engineering Test/Engineering Test Files/'\n",
    "\n",
    "# The function to create the dataframe for each file before combining\n",
    "def createdf(filename):\n",
    "    ''' This function is used to return a dataframe with unique source IP \n",
    "    and environment attribute from each individual file'''\n",
    "    df = pd.read_csv(filename)\n",
    "    uniqueEntries = df['Source IP'].unique()\n",
    "    if ('Asia Prod' in filename):\n",
    "        env = 'Asia Prod'\n",
    "    else:\n",
    "        env = filename.split('/')[3].split('.')[0]\n",
    "    new_df = pd.DataFrame(columns=['Source IP'], data=uniqueEntries)\n",
    "    new_df['Environment'] = env\n",
    "    return new_df\n",
    "\n",
    "# Function is defined to create combined.csv file in provided folder\n",
    "def getCombinedData(folder_path):\n",
    "    ''' This function is used to combine the data from all the files available from the folder provided \n",
    "    and it generates(replaces the already existing) combined.csv file'''\n",
    "    #print('Started processing...')\n",
    "    #print('Getting file list...')\n",
    "    files = os.listdir(folder_path)\n",
    "    try:\n",
    "        if ('Combined.csv' in files):\n",
    "            files.remove('Combined.csv')\n",
    "        else:\n",
    "            files.remove('combined.csv')\n",
    "    except ValueError:\n",
    "        print('')\n",
    "    combined_df = createdf(folder_path+files[0])\n",
    "    for f in files[1:]:\n",
    "        combined_df = combined_df.append(createdf(folder_path+f),ignore_index=True)\n",
    "    #print('Generating the Combined.csv file...')\n",
    "    combined_df.to_csv(folder_path+'Combined.csv',index=False)\n",
    "    #print('Successful !!')\n",
    "    \n",
    "\n",
    "# Calling the function to generate combined.csv file\n",
    "getCombinedData(folder_path)"
   ]
  }
 ],
 "metadata": {
  "kernelspec": {
   "display_name": "Python 3",
   "language": "python",
   "name": "python3"
  },
  "language_info": {
   "codemirror_mode": {
    "name": "ipython",
    "version": 3
   },
   "file_extension": ".py",
   "mimetype": "text/x-python",
   "name": "python",
   "nbconvert_exporter": "python",
   "pygments_lexer": "ipython3",
   "version": "3.7.4"
  }
 },
 "nbformat": 4,
 "nbformat_minor": 2
}
